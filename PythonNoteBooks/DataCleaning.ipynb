{
  "cells": [
    {
      "cell_type": "markdown",
      "metadata": {
        "id": "view-in-github",
        "colab_type": "text"
      },
      "source": [
        "<a href=\"https://colab.research.google.com/github/Superkart/Student_Survey_Analysis/blob/main/PythonNoteBooks/DataCleaning.ipynb\" target=\"_parent\"><img src=\"https://colab.research.google.com/assets/colab-badge.svg\" alt=\"Open In Colab\"/></a>"
      ]
    },
    {
      "cell_type": "markdown",
      "metadata": {
        "id": "snxzsRQe1w-a"
      },
      "source": [
        "#**Project Overview**\n",
        "\n",
        "## Student Satisfaction Survey Analysis (Simulated)\n",
        "\n",
        "This project simulates the workflow I followed as a Student Data Analyst Intern at Manipal University. It involves:\n",
        "- Handling survey responses collected using Google Forms\n",
        "- Cleaning and organizing the dataset using Python (pandas)\n",
        "- Analyzing trends in student satisfaction\n",
        "- Visualizing the results using matplotlib/seaborn\n"
      ]
    },
    {
      "cell_type": "markdown",
      "metadata": {
        "id": "_oQ3F4kT2M7c"
      },
      "source": [
        "##**Importing Libraries**\n"
      ]
    },
    {
      "cell_type": "code",
      "execution_count": 1,
      "metadata": {
        "id": "vHmZ-0fr2Ttb"
      },
      "outputs": [],
      "source": [
        "import numpy as np\n",
        "import pandas as pd\n",
        "import matplotlib.pyplot as plt\n",
        "import seaborn as sb"
      ]
    },
    {
      "cell_type": "markdown",
      "metadata": {
        "id": "ndmma1Uu4Svc"
      },
      "source": [
        "## **Reading the Data from Repo**"
      ]
    },
    {
      "cell_type": "code",
      "execution_count": null,
      "metadata": {
        "colab": {
          "base_uri": "https://localhost:8080/",
          "height": 206
        },
        "id": "5DEvYGQb4fXQ",
        "outputId": "33d01190-6a1a-4a80-c757-0c2a3ea79f1e"
      },
      "outputs": [
        {
          "data": {
            "text/html": [
              "<div>\n",
              "<style scoped>\n",
              "    .dataframe tbody tr th:only-of-type {\n",
              "        vertical-align: middle;\n",
              "    }\n",
              "\n",
              "    .dataframe tbody tr th {\n",
              "        vertical-align: top;\n",
              "    }\n",
              "\n",
              "    .dataframe thead th {\n",
              "        text-align: right;\n",
              "    }\n",
              "</style>\n",
              "<table border=\"1\" class=\"dataframe\">\n",
              "  <thead>\n",
              "    <tr style=\"text-align: right;\">\n",
              "      <th></th>\n",
              "      <th>Timestamp</th>\n",
              "      <th>Course Satisfaction</th>\n",
              "      <th>Instructor Effectiveness</th>\n",
              "      <th>Would Recommend</th>\n",
              "      <th>Additional Comments</th>\n",
              "    </tr>\n",
              "  </thead>\n",
              "  <tbody>\n",
              "    <tr>\n",
              "      <th>0</th>\n",
              "      <td>2024-01-01</td>\n",
              "      <td>Neutral</td>\n",
              "      <td>3</td>\n",
              "      <td>Yes</td>\n",
              "      <td>Too fast-paced</td>\n",
              "    </tr>\n",
              "    <tr>\n",
              "      <th>1</th>\n",
              "      <td>2024-01-02</td>\n",
              "      <td>Unsatisfied</td>\n",
              "      <td>4</td>\n",
              "      <td>Yes</td>\n",
              "      <td>Good course</td>\n",
              "    </tr>\n",
              "    <tr>\n",
              "      <th>2</th>\n",
              "      <td>2024-01-03</td>\n",
              "      <td>Very Satisfied</td>\n",
              "      <td>4</td>\n",
              "      <td>Yes</td>\n",
              "      <td>NaN</td>\n",
              "    </tr>\n",
              "    <tr>\n",
              "      <th>3</th>\n",
              "      <td>2024-01-04</td>\n",
              "      <td>Neutral</td>\n",
              "      <td>1</td>\n",
              "      <td>Yes</td>\n",
              "      <td>Needs improvement</td>\n",
              "    </tr>\n",
              "    <tr>\n",
              "      <th>4</th>\n",
              "      <td>2024-01-05</td>\n",
              "      <td>Neutral</td>\n",
              "      <td>3</td>\n",
              "      <td>Yes</td>\n",
              "      <td>Too fast-paced</td>\n",
              "    </tr>\n",
              "  </tbody>\n",
              "</table>\n",
              "</div>"
            ],
            "text/plain": [
              "    Timestamp Course Satisfaction  Instructor Effectiveness Would Recommend  \\\n",
              "0  2024-01-01             Neutral                         3             Yes   \n",
              "1  2024-01-02         Unsatisfied                         4             Yes   \n",
              "2  2024-01-03      Very Satisfied                         4             Yes   \n",
              "3  2024-01-04             Neutral                         1             Yes   \n",
              "4  2024-01-05             Neutral                         3             Yes   \n",
              "\n",
              "  Additional Comments  \n",
              "0      Too fast-paced  \n",
              "1         Good course  \n",
              "2                 NaN  \n",
              "3   Needs improvement  \n",
              "4      Too fast-paced  "
            ]
          },
          "execution_count": 2,
          "metadata": {},
          "output_type": "execute_result"
        }
      ],
      "source": [
        "url = \"https://raw.githubusercontent.com/Superkart/Student_Survey_Analysis/refs/heads/main/RawData/student_survey_data.csv\"\n",
        "df = pd.read_csv(url)\n",
        "\n",
        "df.head()"
      ]
    },
    {
      "cell_type": "markdown",
      "metadata": {
        "id": "nNypl6Mk6AmA"
      },
      "source": [
        "##**Exploring the Data**"
      ]
    },
    {
      "cell_type": "code",
      "execution_count": null,
      "metadata": {
        "colab": {
          "base_uri": "https://localhost:8080/",
          "height": 449
        },
        "id": "zvLWSmdx6Fm5",
        "outputId": "53d763e5-f78d-4e67-db52-a8feab1b55f4"
      },
      "outputs": [
        {
          "name": "stdout",
          "output_type": "stream",
          "text": [
            "<class 'pandas.core.frame.DataFrame'>\n",
            "RangeIndex: 50 entries, 0 to 49\n",
            "Data columns (total 5 columns):\n",
            " #   Column                    Non-Null Count  Dtype \n",
            "---  ------                    --------------  ----- \n",
            " 0   Timestamp                 50 non-null     object\n",
            " 1   Course Satisfaction       50 non-null     object\n",
            " 2   Instructor Effectiveness  50 non-null     int64 \n",
            " 3   Would Recommend           50 non-null     object\n",
            " 4   Additional Comments       39 non-null     object\n",
            "dtypes: int64(1), object(4)\n",
            "memory usage: 2.1+ KB\n"
          ]
        },
        {
          "data": {
            "text/plain": [
              "Timestamp                    0\n",
              "Course Satisfaction          0\n",
              "Instructor Effectiveness     0\n",
              "Would Recommend              0\n",
              "Additional Comments         11\n",
              "dtype: int64"
            ]
          },
          "execution_count": 3,
          "metadata": {},
          "output_type": "execute_result"
        }
      ],
      "source": [
        "df.shape\n",
        "df.info()\n",
        "df.describe()\n",
        "df.isnull().sum()"
      ]
    },
    {
      "cell_type": "markdown",
      "metadata": {
        "id": "x_8tg6XX9J8g"
      },
      "source": [
        "##**Visualizing Missing Data**"
      ]
    },
    {
      "cell_type": "code",
      "execution_count": null,
      "metadata": {
        "colab": {
          "base_uri": "https://localhost:8080/",
          "height": 602
        },
        "id": "yLPkcWbU9Jng",
        "outputId": "37c9dc77-c75a-4fca-d464-e757293d3b73"
      },
      "outputs": [
        {
          "data": {
            "image/png": "[encoded data removed]",
            "text/plain": [
              "<Figure size 640x480 with 1 Axes>"
            ]
          },
          "metadata": {},
          "output_type": "display_data"
        }
      ],
      "source": [
        "sb.heatmap(df.isnull(), cbar = False, cmap='viridis')\n",
        "plt.title(\"Missing Values Heatmap\")\n",
        "plt.show()"
      ]
    },
    {
      "cell_type": "markdown",
      "metadata": {
        "id": "i2a43bKSIzJp"
      },
      "source": [
        "# **Cleaning the Data**"
      ]
    },
    {
      "cell_type": "markdown",
      "metadata": {
        "id": "RA7YYheyJsyU"
      },
      "source": [
        "## Filling up the Na values with placeholder\n",
        "\n"
      ]
    },
    {
      "cell_type": "code",
      "execution_count": null,
      "metadata": {
        "colab": {
          "base_uri": "https://localhost:8080/"
        },
        "id": "Qcxs1Q3EJsBl",
        "outputId": "c952c668-30fc-466f-fe05-1755fd2f9de4"
      },
      "outputs": [
        {
          "name": "stdout",
          "output_type": "stream",
          "text": [
            "<class 'pandas.core.frame.DataFrame'>\n",
            "RangeIndex: 50 entries, 0 to 49\n",
            "Data columns (total 5 columns):\n",
            " #   Column                    Non-Null Count  Dtype \n",
            "---  ------                    --------------  ----- \n",
            " 0   Timestamp                 50 non-null     object\n",
            " 1   Course Satisfaction       50 non-null     object\n",
            " 2   Instructor Effectiveness  50 non-null     int64 \n",
            " 3   Would Recommend           50 non-null     object\n",
            " 4   Additional Comments       50 non-null     object\n",
            "dtypes: int64(1), object(4)\n",
            "memory usage: 2.1+ KB\n"
          ]
        }
      ],
      "source": [
        "df['Additional Comments'] = df['Additional Comments'].fillna('No Comment')\n",
        "\n",
        "df_Cleaned = df.copy()\n",
        "\n",
        "df_Cleaned.info()\n",
        "df_Cleaned.isnull().sum()\n",
        "df_Cleaned.to_csv(\"Student_Survey_Cleaned.csv\", index=False)\n"
      ]
    },
    {
      "cell_type": "markdown",
      "metadata": {
        "id": "Uwg-EZCaQxN7"
      },
      "source": [
        "## Standardizing the column names"
      ]
    },
    {
      "cell_type": "code",
      "execution_count": null,
      "metadata": {
        "colab": {
          "base_uri": "https://localhost:8080/",
          "height": 241
        },
        "id": "0F2XN3F8M38B",
        "outputId": "a19e7d5d-5a9a-424c-c5b6-54e91ba396f0"
      },
      "outputs": [
        {
          "data": {
            "text/plain": [
              "Timestamp                   0\n",
              "Course Satisfaction         0\n",
              "Instructor Effectiveness    0\n",
              "Would Recommend             0\n",
              "Additional Comments         0\n",
              "dtype: int64"
            ]
          },
          "execution_count": 6,
          "metadata": {},
          "output_type": "execute_result"
        }
      ],
      "source": [
        "df_Cleaned.columns\n",
        "df_Cleaned.head()\n",
        "df.isnull().sum()"
      ]
    },
    {
      "cell_type": "markdown",
      "metadata": {
        "id": "e_hj8aMK3FgV"
      },
      "source": [
        "# Exporting Cleaned DataFrame to csv"
      ]
    },
    {
      "cell_type": "code",
      "execution_count": null,
      "metadata": {
        "id": "QUrs294F3FgV"
      },
      "outputs": [],
      "source": [
        "import os\n",
        "\n",
        "# Ensure the folder exists\n",
        "os.makedirs(\"../CleanedData\", exist_ok=True)\n",
        "\n",
        "# Save the cleaned DataFrame\n",
        "df_Cleaned.to_csv(\"../CleanedData/Student_Survey_Cleaned.csv\", index=False)\n"
      ]
    }
  ],
  "metadata": {
    "colab": {
      "provenance": [],
      "include_colab_link": true
    },
    "kernelspec": {
      "display_name": "Python 3",
      "name": "python3"
    },
    "language_info": {
      "codemirror_mode": {
        "name": "ipython",
        "version": 3
      },
      "file_extension": ".py",
      "mimetype": "text/x-python",
      "name": "python",
      "nbconvert_exporter": "python",
      "pygments_lexer": "ipython3",
      "version": "3.12.6"
    }
  },
  "nbformat": 4,
  "nbformat_minor": 0
}